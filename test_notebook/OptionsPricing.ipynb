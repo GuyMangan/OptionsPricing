{
 "cells": [
  {
   "cell_type": "markdown",
   "id": "a32b211d-1006-4b3d-95b9-faa391c38c91",
   "metadata": {
    "tags": []
   },
   "source": [
    "# Options Pricing"
   ]
  },
  {
   "cell_type": "markdown",
   "id": "82989563-f267-471b-8c88-d0ca5f147be7",
   "metadata": {},
   "source": [
    "A note: this notebook was/is used by the author to learn about options pricing and implementing it in python. as such, there are a lot of comments which are just memory aids for me when I come back to things. Final versions of functions (the .py files (see GitHub)) are much more cleanly formatted and commented."
   ]
  },
  {
   "cell_type": "code",
   "execution_count": 1,
   "id": "e4bad3ed-0bd6-4faf-9734-5d0f11bfec90",
   "metadata": {},
   "outputs": [],
   "source": [
    "import numpy as np\n",
    "import pandas as pd\n",
    "import scipy.stats as sp\n",
    "from scipy.stats import norm\n",
    "import matplotlib.pyplot as plt\n",
    "from stockdex import Ticker"
   ]
  },
  {
   "cell_type": "markdown",
   "id": "349c2752-a8cc-4aa4-9c9f-45aa21e50ba7",
   "metadata": {
    "tags": []
   },
   "source": [
    "## Stock Details"
   ]
  },
  {
   "cell_type": "code",
   "execution_count": 7,
   "id": "74db6898-b92a-4753-b499-b1d5cbd8adc0",
   "metadata": {
    "tags": []
   },
   "outputs": [],
   "source": [
    "def volatility(stock):\n",
    "    \"\"\"Calculates the volatility of a stock, pulling 1 month of data from Yahoo Finance, with a 1d granularity\"\"\"\n",
    "    if type(stock) != str:\n",
    "        print(\"Please enter a valid stock code\")\n",
    "        return None\n",
    "    ticker = Ticker(ticker=stock)\n",
    "    price = ticker.yahoo_api_price(range='1mo', dataGranularity='1d')\n",
    "    price_arr = price['close']\n",
    "    pct_chgs = price_arr.pct_change().dropna()  # Calculate % changes \n",
    "    std = np.std(pct_chgs)\n",
    "    volatility = std*np.sqrt(252) #Annualized volatility from 1mo of data.\n",
    "    return volatility"
   ]
  },
  {
   "cell_type": "code",
   "execution_count": null,
   "id": "e5011e7e-0447-4513-9754-af100d1f3bc9",
   "metadata": {},
   "outputs": [],
   "source": []
  },
  {
   "cell_type": "code",
   "execution_count": 6,
   "id": "df6e048e-e418-4d22-b0b3-9e915ae59ab4",
   "metadata": {
    "tags": []
   },
   "outputs": [
    {
     "data": {
      "text/plain": [
       "(201.56,\n",
       " 0.33,\n",
       " array([0. , 0.1, 0.2, 0.3, 0.4, 0.5, 0.6, 0.7, 0.8, 0.9, 1. ]),\n",
       " array([ 80.,  90., 100., 110., 120.]))"
      ]
     },
     "execution_count": 6,
     "metadata": {},
     "output_type": "execute_result"
    }
   ],
   "source": [
    "#AAPL\n",
    "stock = 'AAPL'\n",
    "#ticker = Ticker(ticker=stock)\n",
    "#S0 = ticker.yahoo_api_price(range='1d', dataGranularity='1d')['close'].values[0] #initial price\n",
    "S0 = 201.56 #2/6/25 price\n",
    "K = 120 #strike price\n",
    "T = 1 #Time to maturity in years\n",
    "r = 0.04258 #risk free rate: us treasury 10 year bond yield 22/3/25\n",
    "#sigma = volatility(stock) #volatility\n",
    "sigma = 0.33\n",
    "sigmas = np.linspace(0,1,11)\n",
    "Ks = np.linspace(80,120,5)\n",
    "S0,sigma, sigmas,Ks"
   ]
  },
  {
   "cell_type": "markdown",
   "id": "b5c279a8-1e0a-4235-974b-9192e6e8b7a8",
   "metadata": {
    "tags": []
   },
   "source": [
    "## Black Scholes"
   ]
  },
  {
   "cell_type": "code",
   "execution_count": 29,
   "id": "1b6f8cbd-ba8c-4970-8763-70d1b2fcb4e0",
   "metadata": {
    "tags": []
   },
   "outputs": [],
   "source": [
    "def black_scholes_call(S0,K,T,r,sigma):\n",
    "    \"\"\"Calculates call price of an European Option using the Black-Scholes Options pricing model.\n",
    "    Inputs:\n",
    "    S0 = Stock Price\n",
    "    K = Strike Price\n",
    "    T = Time to maturity in Years\n",
    "    r = Risk Free Rate\n",
    "    sigma = Volatility\"\"\"\n",
    "    \n",
    "    # At or past maturity\n",
    "    if T <= 0:\n",
    "        return max(S0 - K, 0.0)\n",
    "\n",
    "    # Zero volatility -> option is equivalent to a forward payoff discounted\n",
    "    if sigma <= 0:\n",
    "        return max(S0 - K * np.exp(-r * T), 0.0)\n",
    "\n",
    "    d1 = (np.log(S0/K)+(r+((sigma**2)/2))*T)/(sigma*np.sqrt(T))\n",
    "    d2 = d1 - (sigma*np.sqrt(T))\n",
    "    \n",
    "    price = S0*sp.norm.cdf(d1) - K*np.exp(-r*T)*sp.norm.cdf(d2)\n",
    "    \n",
    "    return price"
   ]
  },
  {
   "cell_type": "code",
   "execution_count": 27,
   "id": "b1a2f4bc-8010-41ef-8011-654704d1d658",
   "metadata": {
    "tags": []
   },
   "outputs": [],
   "source": [
    "def black_scholes_put(S0,K,T,r,sigma):\n",
    "    \"\"\"Calculates put price of an European Option using the Black-Scholes Options pricing model.\n",
    "    Inputs:\n",
    "    S0 = Stock Price\n",
    "    K = Strike Price\n",
    "    T = Time to maturity in Years\n",
    "    r = Risk Free Rate\n",
    "    sigma = Volatility\"\"\"\n",
    "    \n",
    "    # At or past maturity\n",
    "    if T <= 0:\n",
    "        return max(K - S0, 0.0)\n",
    "\n",
    "    # Zero volatility -> option is equivalent to a forward payoff discounted\n",
    "    if sigma <= 0:\n",
    "        return max(K * np.exp(-r * T) - S0, 0.0)\n",
    "    \n",
    "    d1 = (np.log(S0/K)+(r+((sigma**2)/2))*T)/(sigma*np.sqrt(T))\n",
    "    d2 = d1 - (sigma*np.sqrt(T))\n",
    "    \n",
    "    price = K*np.exp(-r*T)*sp.norm.cdf(-d2) - S0*sp.norm.cdf(-d1)\n",
    "    return price"
   ]
  },
  {
   "cell_type": "code",
   "execution_count": 67,
   "id": "6add028e-863c-428b-8516-be96678a3dca",
   "metadata": {
    "tags": []
   },
   "outputs": [
    {
     "name": "stdout",
     "output_type": "stream",
     "text": [
      "Volatility: 0.0\n",
      " Risk Neutral Price:86.5623\n",
      "Volatility: 0.1\n",
      " Risk Neutral Price:86.5623\n",
      "Volatility: 0.2\n",
      " Risk Neutral Price:86.5850\n",
      "Volatility: 0.3\n",
      " Risk Neutral Price:87.1024\n",
      "Volatility: 0.4\n",
      " Risk Neutral Price:88.7498\n",
      "Volatility: 0.5\n",
      " Risk Neutral Price:91.4574\n",
      "Volatility: 0.6\n",
      " Risk Neutral Price:94.9217\n",
      "Volatility: 0.7\n",
      " Risk Neutral Price:98.8830\n",
      "Volatility: 0.8\n",
      " Risk Neutral Price:103.1568\n",
      "Volatility: 0.9\n",
      " Risk Neutral Price:107.6157\n",
      "Volatility: 1.0\n",
      " Risk Neutral Price:112.1702\n"
     ]
    }
   ],
   "source": [
    "for s in sigmas:\n",
    "    price = black_scholes_call(S0,K,T,r,s)\n",
    "    print(f'Volatility: {s:.1f}\\n Risk Neutral Price:{price:.4f}')"
   ]
  },
  {
   "cell_type": "code",
   "execution_count": 68,
   "id": "bbf41fc5-b445-47e5-9087-f77388d21e8e",
   "metadata": {
    "tags": []
   },
   "outputs": [
    {
     "name": "stdout",
     "output_type": "stream",
     "text": [
      "Strike Price: 80.0\n",
      " Risk Neutral Price: 124.9147 \n",
      " 0.33\n",
      "Strike Price: 90.0\n",
      " Risk Neutral Price: 115.3805 \n",
      " 0.33\n",
      "Strike Price: 100.0\n",
      " Risk Neutral Price: 105.9190 \n",
      " 0.33\n",
      "Strike Price: 110.0\n",
      " Risk Neutral Price: 96.5900 \n",
      " 0.33\n",
      "Strike Price: 120.0\n",
      " Risk Neutral Price: 87.4706 \n",
      " 0.33\n"
     ]
    }
   ],
   "source": [
    "for K in Ks:\n",
    "    price = black_scholes_call(S0,K,T,r,sigma)\n",
    "    print(f'Strike Price: {K:.1f}\\n Risk Neutral Price: {price:.4f} \\n {sigma}')"
   ]
  },
  {
   "cell_type": "markdown",
   "id": "98f04b50-1d46-4562-890a-165bd6692cc0",
   "metadata": {
    "tags": []
   },
   "source": [
    "## Binomial Tree"
   ]
  },
  {
   "cell_type": "code",
   "execution_count": 19,
   "id": "314b4f19-8266-448f-a5fd-97a926f1c075",
   "metadata": {},
   "outputs": [],
   "source": [
    "def binomial_tree_call(S0,K,T,r,sigma,N=10000):\n",
    "    \"\"\"Calculates call price of an European Option using the Binomial Tree Options pricing model.\n",
    "    Inputs:\n",
    "    S0 = Stock Price\n",
    "    K = Strike Price\n",
    "    T = Time to maturity in Years\n",
    "    r = Risk Free Rate\n",
    "    sigma = Volatility\n",
    "    N = Number of steps within time T\"\"\"\n",
    "    dt = T/N\n",
    "    u = np.exp(sigma*np.sqrt(dt))\n",
    "    d = np.exp(-sigma*np.sqrt(dt))\n",
    "    p_u = (np.exp(r*dt)-d)/(u-d)\n",
    "    p_d = 1-p_u\n",
    "    \n",
    "    #empty array for price tree\n",
    "    prices = np.zeros((N+1, N+1))\n",
    "    for i in range(N+1): #Step number\n",
    "        for j in range(i+1): #Node within that step\n",
    "            prices[j,i] = S0 * (u**j) * (d**(i-j)) #j and i-j so they count in opposite directions (one up to i+1, one down from i to 0)\n",
    "                                                    #All down, to all up.\n",
    "    #Finds all possible payoffs\n",
    "    option_values = np.maximum(prices[:, N]-K,0) #if price - K is less than 0, sets payoff to zero. (wouldn't use option)\n",
    "    \n",
    "    #loop backwards from final price to find best price for now\n",
    "    for k in range(N-1, -1, -1):\n",
    "        for l in range(k+1): #possible nodes at step l\n",
    "            #https://users.physics.ox.ac.uk/~Foot/Phynance/Binomial2013.pdf\n",
    "            # exp term accounts for risk free return. Rest is standard expected value calculation.\n",
    "            option_values[l] = np.exp(-r*dt)*((p_u*option_values[l])+((p_d)*option_values[l+1]))\n",
    "            \n",
    "    return option_values[0] #returns value at node 0 (the start, ie. how you should price it)"
   ]
  },
  {
   "cell_type": "code",
   "execution_count": 20,
   "id": "ff67d32d-53a0-4d00-ac05-744f591a7291",
   "metadata": {
    "tags": []
   },
   "outputs": [],
   "source": [
    "def binomial_tree_put(S0,K,T,r,sigma,N=10000):\n",
    "    \"\"\"Calculates put price of an European Option using the Binomial Tree Options pricing model.\n",
    "    Inputs:\n",
    "    S0 = Stock Price\n",
    "    K = Strike Price\n",
    "    T = Time to maturity in Years\n",
    "    r = Risk Free Rate\n",
    "    sigma = Volatility\n",
    "    N = Number of steps within time T\"\"\"\n",
    "    dt = T/N\n",
    "    u = np.exp(sigma*np.sqrt(dt))\n",
    "    d = np.exp(-sigma*np.sqrt(dt))\n",
    "    p_u = (np.exp(r*dt)-d)/(u-d)\n",
    "    p_d = 1-p_u\n",
    "    \n",
    "    #empty array for price tree\n",
    "    prices = np.zeros((N+1, N+1))\n",
    "    for i in range(N+1): #Step number\n",
    "        for j in range(i+1): #Node within that step\n",
    "            prices[j,i] = S0 * (u**j) * (d**(i-j)) #j and i-j so they count in opposite directions (one up to i+1, one down from i to 0)\n",
    "                                                    #All down, to all up.\n",
    "    #Finds all possible payoffs\n",
    "    option_values = np.maximum(K - prices[:, N],0) #if K - price is less than 0, sets payoff to zero. (wouldn't use option)\n",
    "    \n",
    "    #loop backwards from final price to find best price for now\n",
    "    for k in range(N-1, -1, -1):\n",
    "        for l in range(k+1): #possible nodes at step l\n",
    "            #https://users.physics.ox.ac.uk/~Foot/Phynance/Binomial2013.pdf\n",
    "            # exp term accounts for risk free return. Rest is standard expected value calculation.\n",
    "            option_values[l] = np.exp(-r*dt)*((p_u*option_values[l])+((p_d)*option_values[l+1]))\n",
    "            \n",
    "    return option_values[0] #returns value at node 0 (the start, ie. how you should price it)"
   ]
  },
  {
   "cell_type": "code",
   "execution_count": 22,
   "id": "3b620d87-d50e-4d35-a435-412f345ac85a",
   "metadata": {
    "tags": []
   },
   "outputs": [
    {
     "data": {
      "text/plain": [
       "92.1742377482657"
      ]
     },
     "execution_count": 22,
     "metadata": {},
     "output_type": "execute_result"
    }
   ],
   "source": [
    "binomial_tree_call(S0,K,T,r,sigma,N=10000)"
   ]
  },
  {
   "cell_type": "markdown",
   "id": "475614a8-d9e5-4039-9a32-bc97f599fa1a",
   "metadata": {
    "tags": []
   },
   "source": [
    "## Monte Carlo"
   ]
  },
  {
   "cell_type": "code",
   "execution_count": 24,
   "id": "78edac22-7dc7-45ad-9165-8978247d5932",
   "metadata": {
    "tags": []
   },
   "outputs": [],
   "source": [
    "def monte_carlo_call(S0,K,T,r,sigma,N=10000,M=10000):\n",
    "    \"\"\"Calculates call price of an European Option using a Monte Carlo Simulation\n",
    "    using the (risk-neutral) Black Scholes Options pricing model.\n",
    "    Inputs:\n",
    "    S0 = Stock Price\n",
    "    K = Strike Price\n",
    "    T = Time to maturity in Years\n",
    "    r = Risk Free Rate\n",
    "    sigma = Volatility\n",
    "    N = Number of steps within time T\n",
    "    M = Number of Simulations\"\"\"\n",
    "    dt = T / N\n",
    "    payoffs_sum = 0\n",
    "    \n",
    "    for i in range(1,M):\n",
    "        S = np.zeros(N)\n",
    "        S[0] = S0\n",
    "        for j in range(1,N):\n",
    "            #Simulating Geometric Brownian motion https://en.wikipedia.org/wiki/Geometric_Brownian_motion\n",
    "            Z = np.random.standard_normal() #New Random Number each time\n",
    "            S[j] = S[j - 1] * np.exp((r - 0.5 * sigma**2) * dt + sigma * np.sqrt(dt) * Z)\n",
    "        \n",
    "        payoffs_sum += np.maximum(S[-1] - K, 0)\n",
    "        \n",
    "    avg_payoff = payoffs_sum/M\n",
    "    price = avg_payoff*np.exp(-r * T) #discount risk free rate\n",
    "    return price"
   ]
  },
  {
   "cell_type": "code",
   "execution_count": 32,
   "id": "ba5520e5-4f43-4011-8ff2-9e92731f9458",
   "metadata": {
    "tags": []
   },
   "outputs": [],
   "source": [
    "def analytic_monte_carlo_call(\n",
    "    S0: float,\n",
    "    K: float,\n",
    "    T: float,\n",
    "    r: float,\n",
    "    sigma: float,\n",
    "    M: int = 10000\n",
    ") -> float:\n",
    "    \"\"\"\n",
    "    Calculates call price of an European Option using a Monte Carlo Simulation\n",
    "    using the (risk-neutral) Black Scholes Options pricing model (risk-neutral Geometric Brownian Motion (analytic solution)).\n",
    "\n",
    "    Inputs:\n",
    "        S0 (float):    Initial stock price.\n",
    "        K (float):     Strike price.\n",
    "        T (float):     Time to maturity (in years).\n",
    "        r (float):     Risk-free interest rate.\n",
    "        sigma (float): Annual volatility.\n",
    "        M (int):       Number of Monte Carlo simulations.\n",
    "\n",
    "    Returns:\n",
    "        float: Estimated call option value at t=0.\n",
    "    \"\"\"\n",
    "\n",
    "    Z = np.random.standard_normal(M)\n",
    "    ST = S0 * np.exp((r - 0.5 * sigma**2) * T + sigma * math.sqrt(T) * Z)\n",
    "    payoffs = np.maximum(ST - K, 0.0)\n",
    "    expected_payoff = np.mean(payoffs)\n",
    "    return expected_payoff * math.exp(-r * T) #discounting by risk free rate\n"
   ]
  },
  {
   "cell_type": "code",
   "execution_count": 33,
   "id": "a4f264ff-6150-417f-84a6-1f70a1fabf03",
   "metadata": {
    "tags": []
   },
   "outputs": [],
   "source": [
    "def monte_carlo_put(S0,K,T,r,sigma,N=1000,M=1):\n",
    "    \"\"\"Calculates put price of an European Option using a Monte Carlo Simulation\n",
    "    using the (risk-neutral) Black Scholes Options pricing model.\n",
    "    Inputs:\n",
    "    S0 = Stock Price\n",
    "    K = Strike Price\n",
    "    T = Time to maturity in Years\n",
    "    r = Risk Free Rate\n",
    "    sigma = Volatility\n",
    "    N = Number of steps within time T\n",
    "    M = Number of simulations\"\"\"\n",
    "    dt = T / N\n",
    "    payoffs_sum = 0\n",
    "    \n",
    "    for i in range(1,M):\n",
    "        S = np.zeros(N)\n",
    "        S[0] = S0\n",
    "        for j in range(1,N):\n",
    "            #Simulating Geometric Brownian motion https://en.wikipedia.org/wiki/Geometric_Brownian_motion\n",
    "            Z = np.random.standard_normal() #New Random Number each time\n",
    "            S[j] = S[j - 1] * np.exp((r - 0.5 * sigma**2) * dt + sigma * np.sqrt(dt) * Z)\n",
    "        \n",
    "        payoffs_sum += np.maximum(K - S[-1], 0)\n",
    "        \n",
    "    avg_payoff = payoffs_sum/M\n",
    "    price = avg_payoff*np.exp(-r * T) #discount risk free rate\n",
    "    return price"
   ]
  },
  {
   "cell_type": "code",
   "execution_count": 34,
   "id": "29ec245d-b2e7-4551-a42c-b36791a66092",
   "metadata": {
    "tags": []
   },
   "outputs": [],
   "source": [
    "def analytic_monte_carlo_put(\n",
    "    S0: float,\n",
    "    K: float,\n",
    "    T: float,\n",
    "    r: float,\n",
    "    sigma: float,\n",
    "    M: int = 10000\n",
    ") -> float:\n",
    "    \"\"\"\n",
    "    Calculates put price of an European Option using a Monte Carlo Simulation\n",
    "    using the (risk-neutral) Black Scholes Options pricing model (risk-neutral Geometric Brownian Motion (analytic solution)).\n",
    "\n",
    "    Inputs:\n",
    "        S0 (float):    Initial stock price.\n",
    "        K (float):     Strike price.\n",
    "        T (float):     Time to maturity (in years).\n",
    "        r (float):     Risk-free interest rate.\n",
    "        sigma (float): Annual volatility.\n",
    "        M (int):       Number of Monte Carlo simulations.\n",
    "\n",
    "    Returns:\n",
    "        float: Estimated call option value at t=0.\n",
    "    \"\"\"\n",
    "\n",
    "    Z = np.random.standard_normal(M)\n",
    "    ST = S0 * np.exp((r - 0.5 * sigma**2) * T + sigma * math.sqrt(T) * Z)\n",
    "    payoffs = np.maximum(K - ST, 0.0)\n",
    "    expected_payoff = np.mean(payoffs)\n",
    "    return expected_payoff * math.exp(-r * T) #discounting by risk free rate\n"
   ]
  },
  {
   "cell_type": "code",
   "execution_count": 39,
   "id": "576c28e2-126d-43c7-83e5-8a13c74cd89b",
   "metadata": {
    "tags": []
   },
   "outputs": [
    {
     "data": {
      "text/plain": [
       "87.02137862765852"
      ]
     },
     "execution_count": 39,
     "metadata": {},
     "output_type": "execute_result"
    }
   ],
   "source": [
    "analytic_monte_carlo_call(S0,K,T,r,sigma)"
   ]
  },
  {
   "cell_type": "markdown",
   "id": "69f9b856-af12-4954-b7d8-eb6e129f2567",
   "metadata": {
    "tags": []
   },
   "source": [
    "## Heston Model"
   ]
  },
  {
   "cell_type": "code",
   "execution_count": 2,
   "id": "5a2fad5f-9ddd-4a7f-8d04-85069bf15eed",
   "metadata": {},
   "outputs": [],
   "source": [
    "def volatility_of_volatility(stock):\n",
    "    \"\"\"Calculates the annualized volatility of a stock for the 36 preceding 7 day chunks of price data (252 days, one market year),\n",
    "    and calculates how volatile the volatility is.\n",
    "    Inputs:\n",
    "    stock (str): Stock Name (as a string, eg. AAPL)\"\"\"\n",
    "    if type(stock) != str:\n",
    "        print(\"Please enter a valid stock code\")\n",
    "        return None\n",
    "    ticker = Ticker(ticker=stock)\n",
    "    price = ticker.yahoo_api_price(range='1y', dataGranularity='1d')\n",
    "    for i in range(0,35):\n",
    "        price_arr = price['close'][i*7:(i*7)+6]\n",
    "        pct_chgs = price_arr.pct_change().dropna()  # Calculate % changes \n",
    "        std = np.std(pct_chgs)\n",
    "        volatility = std*np.sqrt(252) #Annualized volatility from 7d of data.\n",
    "        volatility_arr = np.ones(36)\n",
    "        volatility_arr[i] = volatility\n",
    "        \n",
    "    pct_vol_chgs = volatility_arr.pct_change().dropna()  # Calculate % changes \n",
    "    vol_std = np.std(pct_vol_chgs)\n",
    "    vol_vol = vol_std*np.sqrt(252)\n",
    "    return vol_vol"
   ]
  },
  {
   "cell_type": "code",
   "execution_count": 181,
   "id": "3e5f2098-606b-427d-af93-8e0b54adcdaf",
   "metadata": {
    "tags": []
   },
   "outputs": [],
   "source": [
    "def heston_call(S0, K, T, r, v0, kappa, theta, sigma, rho, N, M):        \n",
    "    \"\"\"Calculates call price using Heston Options pricing model\n",
    "    Inputs:\n",
    "    S0 = Stock Price\n",
    "    K = Strike Price\n",
    "    T = Time to maturity in Years\n",
    "    r = Risk Free Rate\n",
    "    v0 = Initial Variance (volatility = sqrt(variance))\n",
    "    kappa = Mean reversion speed of variance\n",
    "    theta = Long-run variance\n",
    "    sigma = Volatility of volatility\n",
    "    rho = Correlation between asset price and volatility changes\n",
    "    N = Number of steps per run\n",
    "    M = Number of Runs\"\"\"\n",
    "    dt = T / N\n",
    "    S = np.full((M, N+1), S0)\n",
    "    v = np.full((M, N+1), v0)\n",
    "    \n",
    "    for i in range(1, N+1):\n",
    "        Z1 = np.random.standard_normal(M) #Random Zs for each run of the simulation\n",
    "        Z2 = np.random.standard_normal(M)\n",
    "        Z2 = rho * Z1 + np.sqrt(1 - rho**2) * Z2  # Correlated noise\n",
    "        \n",
    "        # Variance # Check if its 0 or i - 1\n",
    "        v[:, i] = np.maximum(v[:, 0] + kappa * (theta - v[:, i-1]) * dt + sigma * np.sqrt(v[:, i-1] * dt) * Z2, 0)\n",
    "        \n",
    "        # Stock price # Check if its 0 or i - 1\n",
    "        S[:, i] = S[:, 0] * np.exp((r - 0.5 * v[:, i-1]) * dt + np.sqrt(v[:, i-1] * dt) * Z1)\n",
    "    \n",
    "    payoff = np.maximum(S[:, -1] - K, 0)\n",
    "    return np.exp(-r * T) * np.mean(payoff)"
   ]
  },
  {
   "cell_type": "markdown",
   "id": "26f930c6-0936-4b9e-b6aa-ba60ca15214c",
   "metadata": {},
   "source": [
    "## Greeks"
   ]
  },
  {
   "cell_type": "code",
   "execution_count": 8,
   "id": "108c9410-f5d0-4ca7-9da1-f94dbec8b0bc",
   "metadata": {},
   "outputs": [],
   "source": [
    "import numpy as np\n",
    "from scipy.stats import norm\n",
    "\n",
    "def bs_greeks(\n",
    "    S: float, \n",
    "    K: float, \n",
    "    T: float, \n",
    "    r: float, \n",
    "    sigma: float, \n",
    "    option_type: str = \"call\"\n",
    ") -> dict:\n",
    "    \n",
    "    \"\"\"Calculates the Greeks for a European option using the Black-Scholes model.\n",
    "\n",
    "    Inputs:\n",
    "        S (float):     Stock Price.\n",
    "        K (float):     Strike price.\n",
    "        T (float):     Time to maturity (in years).\n",
    "        r (float):     Risk-free rate.\n",
    "        sigma (float): Volatility (annual).\n",
    "        option_type (str): \"call\" or \"put\"\n",
    "\n",
    "    Returns:\n",
    "        dict: Dictionary of Greeks: delta, gamma, vega, theta, rho\n",
    "        \n",
    "    Source for formulae:\n",
    "        https://www.macroption.com/black-scholes-formula/#delta\n",
    "    \n",
    "    Note: 252 in theta formula is number of trading days in a year. Makes theta = change in option price per one trading day\"\"\"\n",
    "    \n",
    "    d1 = (np.log(S0/K)+(r+((sigma**2)/2))*T)/(sigma*np.sqrt(T))\n",
    "    d2 = d1 - (sigma*np.sqrt(T))\n",
    "    \n",
    "    pdf_d1 = np.exp(-0.5 * d1**2) / np.sqrt(2 * np.pi) #probability density function (1st deriv)\n",
    "    \n",
    "    #not including dividend yield (merton extension)\n",
    "    if option_type == \"call\":\n",
    "        delta = norm.cdf(d1)\n",
    "        theta = (1/252)*(((-S*sigma*pdf_d1)/(2*np.sqrt(T))) - r*K*np.exp(-r*T)*norm.cdf(d2))\n",
    "        rho = (1/100)*K*T*np.exp(-r*T)*norm.cdf(d2)\n",
    "    \n",
    "    elif option_type == \"put\":\n",
    "        delta = norm.cdf(d1) - 1\n",
    "        theta = (1/252)*(((-S*sigma*pdf_d1)/(2*np.sqrt(T))) + r*K*np.exp(-r*T)*norm.cdf(-d2))\n",
    "        rho = -(1/100)*K*T*np.exp(-r*T)*norm.cdf(-d2)\n",
    "    \n",
    "    else:\n",
    "        print(\"Option type must be 'put' or 'call'\")\n",
    "    \n",
    "    vega = S*pdf_d1*np.sqrt(T)/100\n",
    "    gamma = pdf_d1/(S*sigma*np.sqrt(T))\n",
    "    \n",
    "    return {\n",
    "        \"delta\": delta,\n",
    "        \"gamma\": gamma,\n",
    "        \"vega\": vega,\n",
    "        \"theta\": theta,\n",
    "        \"rho\": rho\n",
    "    }\n",
    "        "
   ]
  },
  {
   "cell_type": "code",
   "execution_count": 15,
   "id": "13607094-d5f5-43c8-beef-b9eb10ec806a",
   "metadata": {
    "tags": []
   },
   "outputs": [
    {
     "data": {
      "text/plain": [
       "-0.03105347776105427"
      ]
     },
     "execution_count": 15,
     "metadata": {},
     "output_type": "execute_result"
    }
   ],
   "source": [
    "bs_greeks(S0,K,T,r,sigma,'put')['delta']"
   ]
  },
  {
   "cell_type": "code",
   "execution_count": null,
   "id": "84354870-598c-4aca-ab9b-f118f8f17029",
   "metadata": {},
   "outputs": [],
   "source": []
  }
 ],
 "metadata": {
  "kernelspec": {
   "display_name": "Python 3 (ipykernel)",
   "language": "python",
   "name": "python3"
  },
  "language_info": {
   "codemirror_mode": {
    "name": "ipython",
    "version": 3
   },
   "file_extension": ".py",
   "mimetype": "text/x-python",
   "name": "python",
   "nbconvert_exporter": "python",
   "pygments_lexer": "ipython3",
   "version": "3.11.11"
  }
 },
 "nbformat": 4,
 "nbformat_minor": 5
}
